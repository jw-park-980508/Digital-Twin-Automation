{
 "cells": [
  {
   "cell_type": "code",
   "execution_count": 1,
   "id": "fa122ad3",
   "metadata": {},
   "outputs": [],
   "source": [
    "import cv2\n",
    "import numpy as np\n",
    "import pandas as pd"
   ]
  },
  {
   "cell_type": "markdown",
   "id": "95543842",
   "metadata": {},
   "source": [
    "Surprise Emoticon"
   ]
  },
  {
   "cell_type": "code",
   "execution_count": 2,
   "id": "79ba75e7",
   "metadata": {},
   "outputs": [],
   "source": [
    "imge = np.ones((100, 100), dtype=np.uint8)*255 \n",
    "# h,w\n",
    "cv2.circle(imge,(50,50),20,0)\n",
    "cv2.circle(imge,(42,45),3,0)\n",
    "cv2.circle(imge,(58,45),3,0)\n",
    "cv2.ellipse(imge,(50,60),(10,6),0,10,170,1)\n",
    "cv2.ellipse(imge,(50,60),(10,6),0,170,350,1)\n",
    "\n",
    "cv2.imshow('imge',imge)\n",
    "\n",
    "cv2.waitKey()\n",
    "cv2.destroyAllWindows()"
   ]
  },
  {
   "cell_type": "markdown",
   "id": "58677c7b",
   "metadata": {},
   "source": [
    "Angry & Disgust Emoticons"
   ]
  },
  {
   "cell_type": "code",
   "execution_count": 7,
   "id": "ea587a08",
   "metadata": {},
   "outputs": [],
   "source": [
    "imge = np.ones((100, 100), dtype=np.uint8)*255 \n",
    "\n",
    "cv2.circle(imge,(50,50),20,0)\n",
    "cv2.line(imge,(37,40),(47,45),1)\n",
    "cv2.line(imge,(53,45),(63,40),1)\n",
    "cv2.ellipse(imge,(50,55),(10,6),0,190,110,1) # Disgust\n",
    "# cv2.ellipse(imge,(50,60),(10,6),0,180,360,1) # Angry\n",
    "cv2.imshow('imge',imge)\n",
    "\n",
    "cv2.waitKey()\n",
    "cv2.destroyAllWindows()"
   ]
  },
  {
   "cell_type": "markdown",
   "id": "47b4dabc",
   "metadata": {},
   "source": [
    "Sad Emoticon"
   ]
  },
  {
   "cell_type": "code",
   "execution_count": 5,
   "id": "4b83ecb9",
   "metadata": {},
   "outputs": [],
   "source": [
    "imge = np.ones((100, 100), dtype=np.uint8)*255 \n",
    "\n",
    "cv2.circle(imge,(50,50),20,0)\n",
    "cv2.line(imge,(38,45),(48,45),1)\n",
    "cv2.line(imge,(41,55),(41,45),1)\n",
    "cv2.line(imge,(45,55),(45,45),1)\n",
    "\n",
    "cv2.line(imge,(52,45),(62,45),1)\n",
    "cv2.line(imge,(55,55),(55,45),1)\n",
    "cv2.line(imge,(59,55),(59,45),1)\n",
    "\n",
    "cv2.line(imge,(45,60),(55,60),1)\n",
    "\n",
    "\n",
    "cv2.imshow('imge',imge)\n",
    "cv2.waitKey()\n",
    "cv2.destroyAllWindows()"
   ]
  },
  {
   "cell_type": "markdown",
   "id": "907a503c",
   "metadata": {},
   "source": [
    "Fear Emoticon"
   ]
  },
  {
   "cell_type": "code",
   "execution_count": 8,
   "id": "5c696afb",
   "metadata": {},
   "outputs": [],
   "source": [
    "imge = np.ones((100, 100), dtype=np.uint8)*255 \n",
    "\n",
    "cv2.circle(imge,(50,50),20,0)\n",
    "cv2.circle(imge,(42,45),3,0)\n",
    "cv2.circle(imge,(58,45),3,0)\n",
    "cv2.circle(imge,(42,45),6,0)\n",
    "cv2.circle(imge,(58,45),6,0)\n",
    "cv2.line(imge,(45,60),(55,60),1)\n",
    "\n",
    "cv2.imshow('imge',imge)\n",
    "cv2.waitKey()\n",
    "cv2.destroyAllWindows()"
   ]
  },
  {
   "cell_type": "markdown",
   "id": "a9f1c81d",
   "metadata": {},
   "source": [
    "Neutral Emotion"
   ]
  },
  {
   "cell_type": "code",
   "execution_count": 9,
   "id": "50d15b9a",
   "metadata": {},
   "outputs": [],
   "source": [
    "imge = np.ones((100, 100), dtype=np.uint8)*255 \n",
    "\n",
    "cv2.circle(imge,(50,50),20,0)\n",
    "cv2.line(imge,(38,45),(48,45),1)\n",
    "cv2.line(imge,(52,45),(62,45),1)\n",
    "cv2.line(imge,(45,60),(55,60),1)\n",
    "\n",
    "\n",
    "cv2.imshow('imge',imge)\n",
    "cv2.waitKey()\n",
    "cv2.destroyAllWindows()"
   ]
  },
  {
   "cell_type": "markdown",
   "id": "76131c20",
   "metadata": {},
   "source": [
    "Happy Emoticon"
   ]
  },
  {
   "cell_type": "code",
   "execution_count": 10,
   "id": "6d9fd5c1",
   "metadata": {},
   "outputs": [],
   "source": [
    "imge = np.ones((100, 100), dtype=np.uint8)*255 \n",
    "# h,w\n",
    "cv2.circle(imge,(50,50),20,0)\n",
    "cv2.ellipse(imge,(42,45),(4,4),0,180,360,1)\n",
    "cv2.ellipse(imge,(58,45),(4,4),0,180,360,1)\n",
    "cv2.ellipse(imge,(50,55),(10,6),0,10,170,1)\n",
    "\n",
    "cv2.imshow('imge',imge)\n",
    "\n",
    "cv2.waitKey()\n",
    "cv2.destroyAllWindows()"
   ]
  },
  {
   "cell_type": "markdown",
   "id": "288de165",
   "metadata": {},
   "source": [
    "Create Coordinate"
   ]
  },
  {
   "cell_type": "code",
   "execution_count": 44,
   "id": "8ee997cf",
   "metadata": {},
   "outputs": [],
   "source": [
    "def gen_coordinate(img, name):\n",
    "    b, h = img.shape\n",
    "    coordinate = []\n",
    "    temp = []\n",
    "    c=1\n",
    "    fh=0\n",
    "    fh2=0\n",
    "    for i in range(b):\n",
    "        temp = []\n",
    "        for j in range(h):\n",
    "            if (img[i][j]==0) & c:\n",
    "                fb = i\n",
    "                fh = j\n",
    "                temp.append([i, j])\n",
    "                c=0\n",
    "            if (img[i][j]==0) & (j >= fh):\n",
    "                temp.append([i, j]) \n",
    "                lb = i\n",
    "                lh = j\n",
    "        try:\n",
    "            coordinate.append(temp[-1])\n",
    "        except:\n",
    "            pass\n",
    "            \n",
    "    c=1       \n",
    "    coordinate2 = []\n",
    "    for i in range(b):\n",
    "        temp = []\n",
    "        for j in range(h):\n",
    "            if (img[i][j]==0) & c:\n",
    "                fb = i\n",
    "                fh = j\n",
    "                temp.append([i, j])\n",
    "                c=0\n",
    "            if (img[i][j]==0) & (j <= fh):\n",
    "                temp.append([i, j])\n",
    "                lb = i\n",
    "                lh = j\n",
    "        try:\n",
    "            coordinate2.append(temp[0])\n",
    "        except:\n",
    "            pass\n",
    "                \n",
    "    n = len(coordinate2)\n",
    "    for i in range(n):\n",
    "        if i!=0:\n",
    "            coordinate.append(coordinate2[n-i-1])\n",
    "\n",
    "    df=pd.DataFrame(coordinate,columns=['x','y'])\n",
    "    df.to_csv(name+'.csv', index=None,columns=['x','y'])\n",
    "\n",
    "    return None\n",
    "\n",
    "def get_rel_pos(name):\n",
    "    data = pd.read_csv(name+'.csv')\n",
    "    data1 = data.copy()\n",
    "\n",
    "    for i in range(len(data)):\n",
    "        if i==0:\n",
    "            data1['x'][i] = data['x'][i] - 50\n",
    "            data1['y'][i] = data['y'][i] - 50\n",
    "        else :\n",
    "            data1['x'][i] = data['x'][i] - data['x'][i-1]\n",
    "            data1['y'][i] = data['y'][i] - data['y'][i-1]\n",
    "    data1.to_csv(name+'_rel.csv', index=None,columns=['x','y'])\n",
    "    return None\n",
    "\n",
    "def gen_rel_coordinate(img, name):\n",
    "    \n",
    "    gen_coordinate(img, name)\n",
    "    get_rel_pos(name)\n",
    "    \n",
    "    return None\n",
    "\n",
    "def gen_rel_coordinate_noncircle(img, name):\n",
    "    b, h = img.shape\n",
    "    coordinate = []\n",
    "    temp = []\n",
    "    c=1\n",
    "    fh=0\n",
    "    fh2=0\n",
    "    for i in range(h):\n",
    "        temp = []\n",
    "        for j in range(b):\n",
    "            if (img[j][i]==1):\n",
    "                fb = i\n",
    "                fh = j\n",
    "                temp.append([i, j])\n",
    "        try:\n",
    "            coordinate.append(temp[-1])\n",
    "        except:\n",
    "            pass\n",
    "\n",
    "    data=pd.DataFrame(coordinate,columns=['x','y'])\n",
    "    data.to_csv(name+'.csv', index=None,columns=['x','y'])\n",
    "    data1 = data.copy()\n",
    "\n",
    "    for i in range(len(data)):\n",
    "        if i==0:\n",
    "            data1['x'][i] = data['x'][i] - 50\n",
    "            data1['y'][i] = data['y'][i] - 50\n",
    "        else :\n",
    "            data1['x'][i] = data['x'][i] - data['x'][i-1]\n",
    "            data1['y'][i] = data['y'][i] - data['y'][i-1]\n",
    "    data1.to_csv(name+'_rel.csv', index=None,columns=['x','y'])\n",
    "    return None    "
   ]
  },
  {
   "cell_type": "markdown",
   "id": "76c10368",
   "metadata": {},
   "source": [
    "Image buffer"
   ]
  },
  {
   "cell_type": "code",
   "execution_count": 101,
   "id": "c204c82f",
   "metadata": {},
   "outputs": [],
   "source": [
    "#놀람\n",
    "imge = np.ones((100, 100), dtype=np.uint8)*255 \n",
    "# h,w\n",
    "# cv2.circle(imge,(50,50),20,0)\n",
    "# cv2.circle(imge,(42,45),3,0)\n",
    "# cv2.circle(imge,(58,45),3,0)\n",
    "# cv2.ellipse(imge,(50,60),(10,6),0,10,170,1)\n",
    "cv2.ellipse(imge,(50,60),(10,6),0,170,350,1)\n",
    "\n",
    "cv2.imshow('imge',imge)\n",
    "\n",
    "cv2.waitKey()\n",
    "cv2.destroyAllWindows()"
   ]
  },
  {
   "cell_type": "markdown",
   "id": "0ef452e4",
   "metadata": {},
   "source": [
    "Image Coordinate Generator\n",
    "\n",
    "Kind: angry, disgust, fear, happy, sad, surprise, neutral\n",
    "        "
   ]
  },
  {
   "cell_type": "code",
   "execution_count": 98,
   "id": "900af997",
   "metadata": {},
   "outputs": [],
   "source": [
    "gen_rel_coordinate(imge, 'surprise_2')"
   ]
  },
  {
   "cell_type": "code",
   "execution_count": 102,
   "id": "33de6210",
   "metadata": {},
   "outputs": [],
   "source": [
    "gen_rel_coordinate_noncircle(imge,'surprise_4')"
   ]
  }
 ],
 "metadata": {
  "kernelspec": {
   "display_name": "Python 3.9.7 ('base')",
   "language": "python",
   "name": "python3"
  },
  "language_info": {
   "codemirror_mode": {
    "name": "ipython",
    "version": 3
   },
   "file_extension": ".py",
   "mimetype": "text/x-python",
   "name": "python",
   "nbconvert_exporter": "python",
   "pygments_lexer": "ipython3",
   "version": "3.9.7"
  },
  "vscode": {
   "interpreter": {
    "hash": "ad2bdc8ecc057115af97d19610ffacc2b4e99fae6737bb82f5d7fb13d2f2c186"
   }
  }
 },
 "nbformat": 4,
 "nbformat_minor": 5
}
